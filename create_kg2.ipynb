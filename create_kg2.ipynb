{
  "nbformat": 4,
  "nbformat_minor": 0,
  "metadata": {
    "colab": {
      "name": "create_kg2.ipynb",
      "provenance": []
    },
    "kernelspec": {
      "name": "python391jvsc74a57bd0df73cf85b3bf13f4963e4734f1585809c523ced4cdfe942be9fadba323e7ddb6",
      "display_name": "Python 3.9.1 64-bit"
    },
    "language_info": {
      "name": "python",
      "version": "3.9.1"
    },
    "metadata": {
      "interpreter": {
        "hash": "df73cf85b3bf13f4963e4734f1585809c523ced4cdfe942be9fadba323e7ddb6"
      }
    }
  },
  "cells": [
    {
      "cell_type": "code",
      "metadata": {
        "id": "lMVPhBDMiy-w",
        "colab": {
          "base_uri": "https://localhost:8080/"
        },
        "outputId": "74dcbff9-7092-4fca-8192-063164fb8203"
      },
      "source": [
        "!pip install networkx\n",
        "!pip install wikipedia-api\n",
        "!pip install graphviz\n",
        "!pip install pydot"
      ],
      "execution_count": 1,
      "outputs": [
        {
          "output_type": "stream",
          "text": [
            "Requirement already satisfied: networkx in /usr/local/lib/python3.7/dist-packages (2.5.1)\n",
            "Requirement already satisfied: decorator<5,>=4.3 in /usr/local/lib/python3.7/dist-packages (from networkx) (4.4.2)\n",
            "Collecting wikipedia-api\n",
            "  Downloading https://files.pythonhosted.org/packages/ef/3d/289963bbf51f8d00cdf7483cdc2baee25ba877e8b4eb72157c47211e3b57/Wikipedia-API-0.5.4.tar.gz\n",
            "Requirement already satisfied: requests in /usr/local/lib/python3.7/dist-packages (from wikipedia-api) (2.23.0)\n",
            "Requirement already satisfied: chardet<4,>=3.0.2 in /usr/local/lib/python3.7/dist-packages (from requests->wikipedia-api) (3.0.4)\n",
            "Requirement already satisfied: certifi>=2017.4.17 in /usr/local/lib/python3.7/dist-packages (from requests->wikipedia-api) (2020.12.5)\n",
            "Requirement already satisfied: idna<3,>=2.5 in /usr/local/lib/python3.7/dist-packages (from requests->wikipedia-api) (2.10)\n",
            "Requirement already satisfied: urllib3!=1.25.0,!=1.25.1,<1.26,>=1.21.1 in /usr/local/lib/python3.7/dist-packages (from requests->wikipedia-api) (1.24.3)\n",
            "Building wheels for collected packages: wikipedia-api\n",
            "  Building wheel for wikipedia-api (setup.py) ... \u001b[?25l\u001b[?25hdone\n",
            "  Created wheel for wikipedia-api: filename=Wikipedia_API-0.5.4-cp37-none-any.whl size=13462 sha256=714efcc1bef18be735f05a77aba29ea0e474a6c58f74c58369aa68cb78c392bf\n",
            "  Stored in directory: /root/.cache/pip/wheels/bf/40/42/ba1d497f3712281b659dd65b566fc868035c859239571a725a\n",
            "Successfully built wikipedia-api\n",
            "Installing collected packages: wikipedia-api\n",
            "Successfully installed wikipedia-api-0.5.4\n",
            "Requirement already satisfied: graphviz in /usr/local/lib/python3.7/dist-packages (0.10.1)\n",
            "Requirement already satisfied: pydot in /usr/local/lib/python3.7/dist-packages (1.3.0)\n",
            "Requirement already satisfied: pyparsing>=2.1.4 in /usr/local/lib/python3.7/dist-packages (from pydot) (2.4.7)\n"
          ],
          "name": "stdout"
        }
      ]
    },
    {
      "cell_type": "code",
      "metadata": {
        "id": "QXSYbk2ykTu-"
      },
      "source": [
        "import wikipediaapi\n",
        "import networkx as nx\n",
        "import matplotlib.pyplot as plt \n",
        "import pydot\n",
        "import string\n",
        "import numpy as np\n",
        "import networkx.classes.function as nxcf"
      ],
      "execution_count": 248,
      "outputs": []
    },
    {
      "cell_type": "code",
      "metadata": {
        "id": "BZg9ka9ei7Lb"
      },
      "source": [
        "def valid1(x):\n",
        "    if ':' not in x and 'List' not in x and 'disambiguation' not in x:\n",
        "        for ch in x:\n",
        "            if ch not in string.printable:\n",
        "                return False\n",
        "        return True\n",
        "    return False\n",
        "\n",
        "\n",
        "def valid2(x):\n",
        "    if ':' not in x and 'List' not in x and 'disambiguation' not in x and x in L[:n]:\n",
        "        for ch in x:\n",
        "            if ch not in string.printable:\n",
        "                return False\n",
        "        return True\n",
        "    return False"
      ],
      "execution_count": 257,
      "outputs": []
    },
    {
      "cell_type": "code",
      "metadata": {
        "id": "j9ZkhUDxkKl4"
      },
      "source": [
        "n = 40"
      ],
      "execution_count": 258,
      "outputs": []
    },
    {
      "cell_type": "code",
      "metadata": {
        "id": "QLaqRG1hkL5S"
      },
      "source": [
        "page_name = 'Chemistry'\n",
        "wiki_api = wikipediaapi.Wikipedia(language='en')\n",
        "page = wiki_api.page(page_name)\n",
        "D = dict.fromkeys(filter(valid1, page.links.keys()))\n",
        "L = ['Chemistry'] + list(D.keys())\n",
        "for name in L[:n]:\n",
        "    page = wiki_api.page(name)\n",
        "    D[name] = list(filter(valid2, page.links.keys()))"
      ],
      "execution_count": 259,
      "outputs": []
    },
    {
      "cell_type": "code",
      "metadata": {
        "id": "kC4SlnH8xyN7"
      },
      "source": [
        "G = nx.DiGraph()\n",
        "for name in L[:n]:\n",
        "    if D[name] not in [[], None]:\n",
        "        for inner_name in D[name]:\n",
        "          if inner_name != name:\n",
        "            G.add_edge(inner_name, name)\n",
        "G.remove_nodes_from([node for node, degree in dict(G.degree()).items() if degree < 2])"
      ],
      "execution_count": 260,
      "outputs": []
    },
    {
      "cell_type": "code",
      "metadata": {
        "colab": {
          "base_uri": "https://localhost:8080/"
        },
        "id": "hOmwNkGv9p7Q",
        "outputId": "a9d8cf42-eaad-48db-c763-d83c06a2933c"
      },
      "source": [
        "# A[i][j] = 0 means that there is no edge between them\n",
        "# A[i][j] = 1 means that the edge denotes j depends on i ; color = black\n",
        "# A[i][j] = 2 means that the edge denotes that i is super-topic of j ; color = blue\n",
        "deg = {node: degree for node, degree in G.degree()}"
      ],
      "execution_count": 265,
      "outputs": [
        {
          "output_type": "stream",
          "text": [
            "<class 'networkx.classes.reportviews.DiDegreeView'>\n"
          ],
          "name": "stdout"
        }
      ]
    },
    {
      "cell_type": "code",
      "metadata": {
        "id": "Y5zS5EwnYqtG"
      },
      "source": [
        "to_remove = []\n",
        "edge_attrs = {}\n",
        "set_list = [tuple(sorted(edge)) for edge in G.edges()]\n",
        "duplicate_list = set(filter(lambda x: set_list.count(x) > 1, set_list))\n",
        "for edge in duplicate_list:\n",
        "  u, v = edge\n",
        "  top = max(edge, key=lambda x: deg[x])\n",
        "  bottom = min(edge, key=lambda x: deg[x])\n",
        "  if top == bottom:\n",
        "    top, bottom = u, v\n",
        "  edge_attrs[(top, bottom)] = {'weight': 2, 'color': 'green'}\n",
        "  to_remove.append((bottom, top))\n",
        "nxcf.set_edge_attributes(G, edge_attrs)\n",
        "G.remove_edges_from(to_remove)"
      ],
      "execution_count": 262,
      "outputs": []
    },
    {
      "cell_type": "code",
      "metadata": {
        "colab": {
          "base_uri": "https://localhost:8080/"
        },
        "id": "2SXsG-SA9p7S",
        "outputId": "d0a0c33f-ec31-488b-dc6a-40375684b86b"
      },
      "source": [
        "cycles = list(nx.algorithms.cycles.simple_cycles(G))\n",
        "print('nos cycles', len(cycles))\n",
        "adj = nx.linalg.graphmatrix.adjacency_matrix(G).A\n",
        "n_false_cycles = 0\n",
        "chem_in_cycle = 0\n",
        "for ind, cycle in enumerate(cycles):\n",
        "  k = len(cycle)\n",
        "  for i in range(k):\n",
        "    if (cycle[i], cycle[(i+1)%k]) in nxcf.get_edge_attributes(G, 'weight'):\n",
        "      n_false_cycles += 1\n",
        "      break\n",
        "  else:\n",
        "    if 'Chemistry' in cycle:\n",
        "      chem_in_cycle += 1\n",
        "    else:\n",
        "      print(cycle)\n",
        "print('false cycles:', n_false_cycles)\n",
        "print('True cycles that have Chemistry in them:', chem_in_cycle)"
      ],
      "execution_count": 263,
      "outputs": [
        {
          "output_type": "stream",
          "text": [
            "nos cycles 221\n",
            "false cycles: 221\n",
            "True cycles that have Chemistry in them: 0\n"
          ],
          "name": "stdout"
        }
      ]
    },
    {
      "cell_type": "code",
      "metadata": {
        "id": "HNNQ9K3QkOZ2"
      },
      "source": [
        "graph = nx.drawing.nx_pydot.to_pydot(G)\n",
        "graph.write_png('Chemistry_new_output_{}nodes_pruned.png'.format(n))"
      ],
      "execution_count": 264,
      "outputs": []
    }
  ]
}